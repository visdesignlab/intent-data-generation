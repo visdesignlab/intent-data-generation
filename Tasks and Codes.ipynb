{
 "cells": [
  {
   "cell_type": "code",
   "execution_count": 2,
   "metadata": {},
   "outputs": [],
   "source": [
    "# !pip3 install altair"
   ]
  },
  {
   "cell_type": "code",
   "execution_count": 57,
   "metadata": {},
   "outputs": [],
   "source": [
    "import pandas as pd\n",
    "import numpy as np"
   ]
  },
  {
   "cell_type": "code",
   "execution_count": null,
   "metadata": {},
   "outputs": [],
   "source": []
  },
  {
   "cell_type": "code",
   "execution_count": null,
   "metadata": {},
   "outputs": [],
   "source": []
  },
  {
   "cell_type": "markdown",
   "metadata": {},
   "source": [
    "### Helper functions for wrangling"
   ]
  },
  {
   "cell_type": "code",
   "execution_count": 70,
   "metadata": {},
   "outputs": [],
   "source": [
    "def gen_plot(plot):\n",
    "  plot = plot.split(\",\")\n",
    "  plot = {\"x\": plot[0].strip(), \"y\": plot[1].strip()}\n",
    "  return [plot]\n",
    "\n",
    "def gen_category(cat):\n",
    "  cat = cat.split(',')\n",
    "  return {\n",
    "      \"show\": cat[0] == \"yes\",\n",
    "      \"column\": cat[1]\n",
    "  }\n",
    "\n",
    "def gen_ground(ground):\n",
    "  if type(ground) is type(0.0):\n",
    "    ground = \"\"\n",
    "  ground = ground.replace(\"]\", \"\").replace(\"[\", \"\")\n",
    "  ground = [int(x.strip()) for x in ground.split(\",\") if x]\n",
    "  return ground\n",
    "\n",
    "def gen_center(cen):\n",
    "  if type(cen) is type(0.0):\n",
    "    cen = \"\"\n",
    "  cen = [float(x) for x in cen.split(',') if x]\n",
    "  if len(cen) == 2:\n",
    "    return {'x': cen[0], 'y': cen[1]}\n",
    "  return None"
   ]
  },
  {
   "cell_type": "code",
   "execution_count": 76,
   "metadata": {},
   "outputs": [],
   "source": [
    "df = pd.read_csv(\"Data/Tasks.csv\")"
   ]
  },
  {
   "cell_type": "code",
   "execution_count": 77,
   "metadata": {},
   "outputs": [],
   "source": [
    "new_df = df.copy(deep=True)\n",
    "new_df[\"plots\"] = new_df[\"plots\"].map(gen_plot)\n",
    "new_df[\"category\"] = new_df[\"showCategory\"] + \",\" + new_df[\"categoryColumn\"]\n",
    "new_df['category'] = new_df['category'].map(gen_category)\n",
    "new_df['ground'] = new_df['ground'].map(gen_ground)\n",
    "new_df['reference'] = new_df['reference'].map(gen_ground)\n",
    "new_df['center'] = new_df['center'].map(gen_center)"
   ]
  },
  {
   "cell_type": "code",
   "execution_count": 103,
   "metadata": {},
   "outputs": [
    {
     "data": {
      "text/plain": [
       "(42, 15)"
      ]
     },
     "execution_count": 103,
     "metadata": {},
     "output_type": "execute_result"
    }
   ],
   "source": [
    "taskDf = new_df[new_df['type'] != \"category\"]\n",
    "taskDf = taskDf[~taskDf['dataset'].isin([\"out_easy_task_5\", \"out_med_task_5\", \"out_hard_task_5\"])]\n",
    "# taskDf = taskDf[(taskDf['training'] == 'yes' & taskDf['difficulty'] == \"medium\")]\n",
    "taskDf = taskDf.query(\"(training == 'yes' & difficulty != 'medium') | training == 'no'\")\n",
    "taskDf.shape"
   ]
  },
  {
   "cell_type": "code",
   "execution_count": 106,
   "metadata": {},
   "outputs": [],
   "source": [
    "import gzip\n",
    "import json"
   ]
  },
  {
   "cell_type": "code",
   "execution_count": 110,
   "metadata": {},
   "outputs": [],
   "source": [
    "with gzip.open(\"./Data/study/study.json.gz\", 'rt') as zipfile:\n",
    "    studyProvenance = json.load(zipfile)"
   ]
  },
  {
   "cell_type": "code",
   "execution_count": null,
   "metadata": {},
   "outputs": [],
   "source": []
  },
  {
   "cell_type": "code",
   "execution_count": null,
   "metadata": {},
   "outputs": [],
   "source": []
  }
 ],
 "metadata": {
  "kernelspec": {
   "display_name": "Python 3",
   "language": "python",
   "name": "python3"
  },
  "language_info": {
   "codemirror_mode": {
    "name": "ipython",
    "version": 3
   },
   "file_extension": ".py",
   "mimetype": "text/x-python",
   "name": "python",
   "nbconvert_exporter": "python",
   "pygments_lexer": "ipython3",
   "version": "3.7.1"
  }
 },
 "nbformat": 4,
 "nbformat_minor": 2
}
